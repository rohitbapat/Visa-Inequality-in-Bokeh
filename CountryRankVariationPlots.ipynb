{
 "cells": [
  {
   "cell_type": "code",
   "execution_count": null,
   "metadata": {},
   "outputs": [],
   "source": [
    "import pandas as pd"
   ]
  },
  {
   "cell_type": "code",
   "execution_count": null,
   "metadata": {},
   "outputs": [],
   "source": [
    "country_rank_df = pd.read_csv(\"D:\\\\DataViz\\\\Project\\\\country_rank_score.csv\")"
   ]
  },
  {
   "cell_type": "code",
   "execution_count": null,
   "metadata": {},
   "outputs": [],
   "source": [
    "country_rank_df.head()"
   ]
  },
  {
   "cell_type": "code",
   "execution_count": null,
   "metadata": {},
   "outputs": [],
   "source": [
    "country_rank_df.dropna(inplace=True)"
   ]
  },
  {
   "cell_type": "code",
   "execution_count": null,
   "metadata": {},
   "outputs": [],
   "source": [
    "country_rank_df[country_rank_df.country_name == 'Denmark']"
   ]
  },
  {
   "cell_type": "code",
   "execution_count": null,
   "metadata": {},
   "outputs": [],
   "source": [
    "from bokeh.plotting import figure, output_file, show\n",
    "from bokeh.models import HoverTool,CDSView,GroupFilter\n",
    "import bokeh.plotting as bp\n",
    "from bokeh.transform import factor_cmap, factor_mark\n",
    "from bokeh.palettes import Category10\n",
    "from bokeh.layouts import row\n",
    "from bokeh.io import show, curdoc\n",
    "from bokeh.client import push_session, pull_session"
   ]
  },
  {
   "cell_type": "code",
   "execution_count": null,
   "metadata": {},
   "outputs": [],
   "source": [
    "def make_data(country_list,country_rank_df):\n",
    "\n",
    "    output_file(\"line.html\")\n",
    "\n",
    "    p = figure(plot_width=600, plot_height=600)\n",
    "    \n",
    "    for i in range(len(country_list)):\n",
    "        \n",
    "        data = bp.ColumnDataSource(data={'year':country_rank_df.loc[country_rank_df.country_name == country_list[i]].year,\n",
    "           'group':country_rank_df.loc[country_rank_df.country_name == country_list[i]].country_name,\n",
    "           'score':country_rank_df.loc[country_rank_df.country_name == country_list[i]].score})\n",
    "        \n",
    "        view=CDSView(source=data,filters=[GroupFilter(column_name='country_name', group=country_list[i])])\n",
    "        \n",
    "        p.line('year','score',source=data,view=view, line_width=2,color = (Category10[3])[i],legend = country_list[i])\n",
    "\n",
    "    hover = HoverTool(tooltips=[('Score', '@score')])\n",
    "    \n",
    "    checkbox_group = CheckboxGroup(labels=list(country_rank_df.country_name.unique()),active = [0, 1])\n",
    "\n",
    "    p.add_tools(hover)\n",
    "    \n",
    "    layout = row(p,checkbox_group)\n",
    "        # add a line renderer     show(layout)\n",
    "    "
   ]
  },
  {
   "cell_type": "code",
   "execution_count": null,
   "metadata": {},
   "outputs": [],
   "source": [
    "make_data(['United States'],country_rank_df)"
   ]
  },
  {
   "cell_type": "code",
   "execution_count": null,
   "metadata": {},
   "outputs": [],
   "source": [
    "from bokeh.plotting import figure\n",
    "from bokeh.io import show\n",
    "\n",
    "# Create a blank figure with labels\n",
    "p = figure(plot_width = 600, plot_height = 600, \n",
    "           title = 'Example Glyphs',\n",
    "           x_axis_label = 'X', y_axis_label = 'Y')\n",
    "\n",
    "# Example data\n",
    "squares_x = [1, 3, 4, 5, 8]\n",
    "squares_y = [8, 7, 3, 1, 10]\n",
    "circles_x = [9, 12, 4, 3, 15]\n",
    "circles_y = [8, 4, 11, 6, 10]\n",
    "\n",
    "# Add squares glyph\n",
    "p.square(squares_x, squares_y, size = 12, color = 'navy', alpha = 0.6)\n",
    "# Add circle glyph\n",
    "p.circle(circles_x, circles_y, size = 12, color = 'red')\n",
    "\n",
    "# Set to output the plot in the notebook\n",
    "#output_notebook()\n",
    "# Show the plot\n",
    "show(p)"
   ]
  },
  {
   "cell_type": "code",
   "execution_count": null,
   "metadata": {},
   "outputs": [],
   "source": [
    "labels=list(country_rank_df.country_name.unique())"
   ]
  },
  {
   "cell_type": "code",
   "execution_count": null,
   "metadata": {},
   "outputs": [],
   "source": [
    "from bokeh.io import output_file, show\n",
    "from bokeh.models.widgets import CheckboxGroup\n",
    "\n",
    "output_file(\"checkbox_group.html\")\n",
    "\n",
    "checkbox_group = CheckboxGroup(\n",
    "        labels=[\"Option 1\", \"Option 2\", \"Option 3\"], active=[0, 1])\n",
    "\n",
    "show(checkbox_group)"
   ]
  },
  {
   "cell_type": "code",
   "execution_count": null,
   "metadata": {},
   "outputs": [],
   "source": [
    "make_data(['Denmark','India','Pakistan'],country_rank_df)"
   ]
  },
  {
   "cell_type": "code",
   "execution_count": null,
   "metadata": {},
   "outputs": [],
   "source": [
    "from bokeh.models.widgets import CheckboxGroup\n",
    "\n",
    "carrier_selection = CheckboxGroup(labels=list(country_rank_df.country_name.unique()), \n",
    "                                  active = [0, 1])"
   ]
  },
  {
   "cell_type": "code",
   "execution_count": null,
   "metadata": {},
   "outputs": [],
   "source": [
    "[carrier_selection.labels[i] for i in carrier_selection.active]"
   ]
  },
  {
   "cell_type": "code",
   "execution_count": null,
   "metadata": {},
   "outputs": [],
   "source": [
    "country_rank_df.country_name.unique()"
   ]
  },
  {
   "cell_type": "code",
   "execution_count": null,
   "metadata": {},
   "outputs": [],
   "source": [
    "output_file(\"line.html\")\n",
    "\n",
    "p = figure(plot_width=600, plot_height=600)\n",
    "\n",
    "\n",
    "data = bp.ColumnDataSource(data={'year':country_rank_df.loc[country_rank_df.country_name == 'United States'].year,\n",
    "   'group':country_rank_df.loc[country_rank_df.country_name == 'United States'].country_name,\n",
    "   'score':country_rank_df.loc[country_rank_df.country_name == 'United States'].score})\n",
    "\n",
    "view=CDSView(source=data,filters=[GroupFilter(column_name='country_name', group='United States')])\n",
    "\n",
    "p.line('year','score',source=data,view=view, line_width=2,color = (Category10[3])[0],legend = 'United States')\n",
    "\n",
    "hover = HoverTool(tooltips=[('Score', '@score')])\n",
    "\n",
    "p.add_tools(hover)\n",
    "\n",
    "layout = row(p,checkbox_group)\n",
    "    # add a line renderer   \n",
    "show(layout)"
   ]
  },
  {
   "cell_type": "code",
   "execution_count": null,
   "metadata": {},
   "outputs": [],
   "source": [
    "def modify_doc(doc):\n",
    "    def callback(attr,old,new):\n",
    "        global country_rank_df\n",
    "        country_list = [checkbox_group.labels[i] for i in checkbox_group.active]\n",
    "        for i in range(len(country_list)):\n",
    "\n",
    "            new_data = bp.ColumnDataSource(data={'year':country_rank_df.loc[country_rank_df.country_name == country_list[i]].year,\n",
    "               'group':country_rank_df.loc[country_rank_df.country_name == country_list[i]].country_name,\n",
    "               'score':country_rank_df.loc[country_rank_df.country_name == country_list[i]].score})\n",
    "            data.data.update(new_data.data)\n",
    "\n",
    "            view=CDSView(source=data,filters=[GroupFilter(column_name='country_name', group=country_list[i])])\n",
    "\n",
    "\n",
    "    checkbox_group = CheckboxGroup(labels=list(country_rank_df.country_name.unique()),active = [2])\n",
    "    checkbox_group.on_change('active',callback)\n",
    "\n",
    "    controls = WidgetBox(checkbox_group)\n",
    "    initial_carriers = [checkbox_group.labels[i] for i in checkbox_group.active]\n",
    "    for i in range(len(initial_carriers)): \n",
    "        new_data = bp.ColumnDataSource(data={'year':country_rank_df.loc[country_rank_df.country_name == country_list[i]].year,\n",
    "           'group':country_rank_df.loc[country_rank_df.country_name == country_list[i]].country_name,\n",
    "           'score':country_rank_df.loc[country_rank_df.country_name == country_list[i]].score})\n",
    "        data.data.update(new_data.data)\n",
    "\n",
    "        view=CDSView(source=data,filters=[GroupFilter(column_name='country_name', group=country_list[i])])\n",
    "\n",
    "    p.line('year','score',source=data,view=view, line_width=2,color = (Category10[3])[0],legend = 'United States')\n",
    "\n",
    "    hover = HoverTool(tooltips=[('Score', '@score')])\n",
    "\n",
    "    p.add_tools(hover)\n",
    "\n",
    "    layout = row(checkbox_group,p)"
   ]
  },
  {
   "cell_type": "code",
   "execution_count": null,
   "metadata": {},
   "outputs": [],
   "source": [
    "from bokeh.application.handlers import FunctionHandler\n",
    "from bokeh.application import Application\n",
    "from bokeh.io import show, output_notebook, push_notebook\n",
    "\n",
    "handler = FunctionHandler(modify_doc)\n",
    "app = Application(handler)\n",
    "show(app)"
   ]
  },
  {
   "cell_type": "markdown",
   "metadata": {},
   "source": [
    "### Server and Filter Checkbox"
   ]
  },
  {
   "cell_type": "code",
   "execution_count": null,
   "metadata": {},
   "outputs": [],
   "source": [
    "server.stop()"
   ]
  },
  {
   "cell_type": "code",
   "execution_count": null,
   "metadata": {},
   "outputs": [],
   "source": [
    "from bokeh.io import output_file, show,curdoc\n",
    "from bokeh.models.widgets import CheckboxGroup\n",
    "from bokeh.application import Application\n",
    "from bokeh.application.handlers.function import FunctionHandler\n",
    "from bokeh.server.server import Server\n",
    "from bokeh.io import show, output_notebook\n",
    "import pandas as pd\n",
    "\n",
    "output_notebook()\n",
    "\n",
    "def make_doc(doc):\n",
    "    #output_file(\"checkbox_group.html\")\n",
    "    country_rank_df = pd.read_csv(\"D:\\\\DataViz\\\\Project\\\\country_rank_score.csv\")\n",
    "    \n",
    "    carrier_selection = CheckboxGroup(labels=list(country_rank_df.country_name.unique()), \n",
    "                                  active = [2])\n",
    "\n",
    "    layout = row(career_selection)\n",
    "    doc.add_root(layout)\n",
    "    return doc\n",
    "\n",
    "#handler=FunctionHandler(make_doc)\n",
    "#app=Application(handler)\n",
    "#show(app)\n",
    "app = Application(FunctionHandler(make_doc))\n",
    "\n",
    "server = Server({'/bkapp': app})\n",
    "\n",
    "server.start()"
   ]
  },
  {
   "cell_type": "markdown",
   "metadata": {},
   "source": [
    "### Final Try ###"
   ]
  },
  {
   "cell_type": "code",
   "execution_count": 1,
   "metadata": {},
   "outputs": [],
   "source": [
    "import pandas as pd\n",
    "from bokeh.plotting import figure, output_file, show,ColumnDataSource\n",
    "from bokeh.models import HoverTool\n",
    "from bokeh.palettes import Category10\n",
    "from bokeh.layouts import column, row, WidgetBox\n",
    "from bokeh.models import Panel\n",
    "from bokeh.models.widgets import Tabs"
   ]
  },
  {
   "cell_type": "code",
   "execution_count": 2,
   "metadata": {},
   "outputs": [],
   "source": [
    "def make_dataset(df,country_list):\n",
    "    data = df[df.country_name.isin(country_list)]\n",
    "    return ColumnDataSource(data=data)"
   ]
  },
  {
   "cell_type": "code",
   "execution_count": 3,
   "metadata": {},
   "outputs": [],
   "source": [
    "country_rank_df = pd.read_csv(\"D:\\\\DataViz\\\\Project\\\\country_rank_score.csv\")\n",
    "country_rank_df.dropna(inplace=True)"
   ]
  },
  {
   "cell_type": "code",
   "execution_count": null,
   "metadata": {},
   "outputs": [],
   "source": [
    "data.column_names"
   ]
  },
  {
   "cell_type": "code",
   "execution_count": 12,
   "metadata": {},
   "outputs": [],
   "source": [
    "def get_plot(country_rank_df,country_list):\n",
    "    \n",
    "    p = figure(plot_width=600, plot_height=600)\n",
    "\n",
    "    for ind,country in enumerate(country_list):\n",
    "        data = make_dataset(country_rank_df,[country])\n",
    "        p.line('year','score',source=data, line_width=2,color = (Category10[3])[ind],legend = country)\n",
    "    hover = HoverTool(tooltips=[('Score', '@score'),('Name','@country_name')])\n",
    "    p.add_tools(hover)\n",
    "    return p\n"
   ]
  },
  {
   "cell_type": "code",
   "execution_count": 6,
   "metadata": {},
   "outputs": [],
   "source": [
    "from bokeh.models.widgets import CheckboxGroup\n",
    "# Create the checkbox selection element, available carriers is a  \n",
    "# list of all airlines in the data\n",
    "carrier_selection = CheckboxGroup(labels=list(country_rank_df.country_name.unique()), \n",
    "                                  active = [2])\n"
   ]
  },
  {
   "cell_type": "code",
   "execution_count": 7,
   "metadata": {},
   "outputs": [],
   "source": [
    "def update(attr, old, new):\n",
    "    # Get the list of carriers for the graph\n",
    "    carriers_to_plot = [carrier_selection.labels[i] for i in \n",
    "                        carrier_selection.active]\n",
    "    # Make a new dataset based on the selected carriers and the \n",
    "    # make_dataset function defined earlier\n",
    "    new_src = make_dataset(country_rank_df,carriers_to_plot)\n",
    "    # Update the source used in the quad glpyhs\n",
    "    src.data.update(new_src.data)"
   ]
  },
  {
   "cell_type": "code",
   "execution_count": 8,
   "metadata": {},
   "outputs": [],
   "source": [
    "carrier_selection.on_change('active', update)"
   ]
  },
  {
   "cell_type": "code",
   "execution_count": 13,
   "metadata": {},
   "outputs": [],
   "source": [
    "p = get_plot(country_rank_df,['United States'])\n",
    "controls = WidgetBox(carrier_selection)\n",
    "layout = row(controls, p)\n",
    "    \n",
    "# Make a tab with the layout \n",
    "tab = Panel(child=layout, title = 'Country Ranks')\n",
    "tabs = Tabs(tabs=[tab])\n"
   ]
  },
  {
   "cell_type": "code",
   "execution_count": 14,
   "metadata": {},
   "outputs": [
    {
     "name": "stderr",
     "output_type": "stream",
     "text": [
      "WARNING:bokeh.embed.util:\n",
      "You are generating standalone HTML/JS output, but trying to use real Python\n",
      "callbacks (i.e. with on_change or on_event). This combination cannot work.\n",
      "\n",
      "Only JavaScript callbacks may be used with standalone output. For more\n",
      "information on JavaScript callbacks with Bokeh, see:\n",
      "\n",
      "    http://bokeh.pydata.org/en/latest/docs/user_guide/interaction/callbacks.html\n",
      "\n",
      "Alternatively, to use real Python callbacks, a Bokeh server application may\n",
      "be used. For more information on building and running Bokeh applications, see:\n",
      "\n",
      "    http://bokeh.pydata.org/en/latest/docs/user_guide/server.html\n",
      "\n"
     ]
    }
   ],
   "source": [
    "show(tabs)"
   ]
  },
  {
   "cell_type": "code",
   "execution_count": 15,
   "metadata": {},
   "outputs": [],
   "source": [
    "from bokeh.models.widgets import TextInput"
   ]
  },
  {
   "cell_type": "code",
   "execution_count": 18,
   "metadata": {},
   "outputs": [
    {
     "name": "stderr",
     "output_type": "stream",
     "text": [
      "WARNING:bokeh.embed.util:\n",
      "You are generating standalone HTML/JS output, but trying to use real Python\n",
      "callbacks (i.e. with on_change or on_event). This combination cannot work.\n",
      "\n",
      "Only JavaScript callbacks may be used with standalone output. For more\n",
      "information on JavaScript callbacks with Bokeh, see:\n",
      "\n",
      "    http://bokeh.pydata.org/en/latest/docs/user_guide/interaction/callbacks.html\n",
      "\n",
      "Alternatively, to use real Python callbacks, a Bokeh server application may\n",
      "be used. For more information on building and running Bokeh applications, see:\n",
      "\n",
      "    http://bokeh.pydata.org/en/latest/docs/user_guide/server.html\n",
      "\n"
     ]
    }
   ],
   "source": [
    "def my_text_input_handler(attr, old, new):\n",
    "    print(\"Previous label: \" + old)\n",
    "    print(\"Updated label: \" + new)\n",
    "\n",
    "text_input = TextInput(value=\"default\", title=\"Label:\")\n",
    "text_input.on_change(\"value\", my_text_input_handler)\n",
    "show(text_input)"
   ]
  }
 ],
 "metadata": {
  "kernelspec": {
   "display_name": "Python 3",
   "language": "python",
   "name": "python3"
  },
  "language_info": {
   "codemirror_mode": {
    "name": "ipython",
    "version": 3
   },
   "file_extension": ".py",
   "mimetype": "text/x-python",
   "name": "python",
   "nbconvert_exporter": "python",
   "pygments_lexer": "ipython3",
   "version": "3.5.5"
  }
 },
 "nbformat": 4,
 "nbformat_minor": 2
}
