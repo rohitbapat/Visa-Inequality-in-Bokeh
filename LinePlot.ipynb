{
 "cells": [
  {
   "cell_type": "code",
   "execution_count": 4,
   "metadata": {},
   "outputs": [
    {
     "data": {
      "text/html": [
       "\n",
       "    <div class=\"bk-root\">\n",
       "        <a href=\"https://bokeh.pydata.org\" target=\"_blank\" class=\"bk-logo bk-logo-small bk-logo-notebook\"></a>\n",
       "        <span id=\"1003\">Loading BokehJS ...</span>\n",
       "    </div>"
      ]
     },
     "metadata": {},
     "output_type": "display_data"
    },
    {
     "data": {
      "application/javascript": [
       "\n",
       "(function(root) {\n",
       "  function now() {\n",
       "    return new Date();\n",
       "  }\n",
       "\n",
       "  var force = true;\n",
       "\n",
       "  if (typeof root._bokeh_onload_callbacks === \"undefined\" || force === true) {\n",
       "    root._bokeh_onload_callbacks = [];\n",
       "    root._bokeh_is_loading = undefined;\n",
       "  }\n",
       "\n",
       "  var JS_MIME_TYPE = 'application/javascript';\n",
       "  var HTML_MIME_TYPE = 'text/html';\n",
       "  var EXEC_MIME_TYPE = 'application/vnd.bokehjs_exec.v0+json';\n",
       "  var CLASS_NAME = 'output_bokeh rendered_html';\n",
       "\n",
       "  /**\n",
       "   * Render data to the DOM node\n",
       "   */\n",
       "  function render(props, node) {\n",
       "    var script = document.createElement(\"script\");\n",
       "    node.appendChild(script);\n",
       "  }\n",
       "\n",
       "  /**\n",
       "   * Handle when an output is cleared or removed\n",
       "   */\n",
       "  function handleClearOutput(event, handle) {\n",
       "    var cell = handle.cell;\n",
       "\n",
       "    var id = cell.output_area._bokeh_element_id;\n",
       "    var server_id = cell.output_area._bokeh_server_id;\n",
       "    // Clean up Bokeh references\n",
       "    if (id != null && id in Bokeh.index) {\n",
       "      Bokeh.index[id].model.document.clear();\n",
       "      delete Bokeh.index[id];\n",
       "    }\n",
       "\n",
       "    if (server_id !== undefined) {\n",
       "      // Clean up Bokeh references\n",
       "      var cmd = \"from bokeh.io.state import curstate; print(curstate().uuid_to_server['\" + server_id + \"'].get_sessions()[0].document.roots[0]._id)\";\n",
       "      cell.notebook.kernel.execute(cmd, {\n",
       "        iopub: {\n",
       "          output: function(msg) {\n",
       "            var id = msg.content.text.trim();\n",
       "            if (id in Bokeh.index) {\n",
       "              Bokeh.index[id].model.document.clear();\n",
       "              delete Bokeh.index[id];\n",
       "            }\n",
       "          }\n",
       "        }\n",
       "      });\n",
       "      // Destroy server and session\n",
       "      var cmd = \"import bokeh.io.notebook as ion; ion.destroy_server('\" + server_id + \"')\";\n",
       "      cell.notebook.kernel.execute(cmd);\n",
       "    }\n",
       "  }\n",
       "\n",
       "  /**\n",
       "   * Handle when a new output is added\n",
       "   */\n",
       "  function handleAddOutput(event, handle) {\n",
       "    var output_area = handle.output_area;\n",
       "    var output = handle.output;\n",
       "\n",
       "    // limit handleAddOutput to display_data with EXEC_MIME_TYPE content only\n",
       "    if ((output.output_type != \"display_data\") || (!output.data.hasOwnProperty(EXEC_MIME_TYPE))) {\n",
       "      return\n",
       "    }\n",
       "\n",
       "    var toinsert = output_area.element.find(\".\" + CLASS_NAME.split(' ')[0]);\n",
       "\n",
       "    if (output.metadata[EXEC_MIME_TYPE][\"id\"] !== undefined) {\n",
       "      toinsert[toinsert.length - 1].firstChild.textContent = output.data[JS_MIME_TYPE];\n",
       "      // store reference to embed id on output_area\n",
       "      output_area._bokeh_element_id = output.metadata[EXEC_MIME_TYPE][\"id\"];\n",
       "    }\n",
       "    if (output.metadata[EXEC_MIME_TYPE][\"server_id\"] !== undefined) {\n",
       "      var bk_div = document.createElement(\"div\");\n",
       "      bk_div.innerHTML = output.data[HTML_MIME_TYPE];\n",
       "      var script_attrs = bk_div.children[0].attributes;\n",
       "      for (var i = 0; i < script_attrs.length; i++) {\n",
       "        toinsert[toinsert.length - 1].firstChild.setAttribute(script_attrs[i].name, script_attrs[i].value);\n",
       "      }\n",
       "      // store reference to server id on output_area\n",
       "      output_area._bokeh_server_id = output.metadata[EXEC_MIME_TYPE][\"server_id\"];\n",
       "    }\n",
       "  }\n",
       "\n",
       "  function register_renderer(events, OutputArea) {\n",
       "\n",
       "    function append_mime(data, metadata, element) {\n",
       "      // create a DOM node to render to\n",
       "      var toinsert = this.create_output_subarea(\n",
       "        metadata,\n",
       "        CLASS_NAME,\n",
       "        EXEC_MIME_TYPE\n",
       "      );\n",
       "      this.keyboard_manager.register_events(toinsert);\n",
       "      // Render to node\n",
       "      var props = {data: data, metadata: metadata[EXEC_MIME_TYPE]};\n",
       "      render(props, toinsert[toinsert.length - 1]);\n",
       "      element.append(toinsert);\n",
       "      return toinsert\n",
       "    }\n",
       "\n",
       "    /* Handle when an output is cleared or removed */\n",
       "    events.on('clear_output.CodeCell', handleClearOutput);\n",
       "    events.on('delete.Cell', handleClearOutput);\n",
       "\n",
       "    /* Handle when a new output is added */\n",
       "    events.on('output_added.OutputArea', handleAddOutput);\n",
       "\n",
       "    /**\n",
       "     * Register the mime type and append_mime function with output_area\n",
       "     */\n",
       "    OutputArea.prototype.register_mime_type(EXEC_MIME_TYPE, append_mime, {\n",
       "      /* Is output safe? */\n",
       "      safe: true,\n",
       "      /* Index of renderer in `output_area.display_order` */\n",
       "      index: 0\n",
       "    });\n",
       "  }\n",
       "\n",
       "  // register the mime type if in Jupyter Notebook environment and previously unregistered\n",
       "  if (root.Jupyter !== undefined) {\n",
       "    var events = require('base/js/events');\n",
       "    var OutputArea = require('notebook/js/outputarea').OutputArea;\n",
       "\n",
       "    if (OutputArea.prototype.mime_types().indexOf(EXEC_MIME_TYPE) == -1) {\n",
       "      register_renderer(events, OutputArea);\n",
       "    }\n",
       "  }\n",
       "\n",
       "  \n",
       "  if (typeof (root._bokeh_timeout) === \"undefined\" || force === true) {\n",
       "    root._bokeh_timeout = Date.now() + 5000;\n",
       "    root._bokeh_failed_load = false;\n",
       "  }\n",
       "\n",
       "  var NB_LOAD_WARNING = {'data': {'text/html':\n",
       "     \"<div style='background-color: #fdd'>\\n\"+\n",
       "     \"<p>\\n\"+\n",
       "     \"BokehJS does not appear to have successfully loaded. If loading BokehJS from CDN, this \\n\"+\n",
       "     \"may be due to a slow or bad network connection. Possible fixes:\\n\"+\n",
       "     \"</p>\\n\"+\n",
       "     \"<ul>\\n\"+\n",
       "     \"<li>re-rerun `output_notebook()` to attempt to load from CDN again, or</li>\\n\"+\n",
       "     \"<li>use INLINE resources instead, as so:</li>\\n\"+\n",
       "     \"</ul>\\n\"+\n",
       "     \"<code>\\n\"+\n",
       "     \"from bokeh.resources import INLINE\\n\"+\n",
       "     \"output_notebook(resources=INLINE)\\n\"+\n",
       "     \"</code>\\n\"+\n",
       "     \"</div>\"}};\n",
       "\n",
       "  function display_loaded() {\n",
       "    var el = document.getElementById(\"1003\");\n",
       "    if (el != null) {\n",
       "      el.textContent = \"BokehJS is loading...\";\n",
       "    }\n",
       "    if (root.Bokeh !== undefined) {\n",
       "      if (el != null) {\n",
       "        el.textContent = \"BokehJS \" + root.Bokeh.version + \" successfully loaded.\";\n",
       "      }\n",
       "    } else if (Date.now() < root._bokeh_timeout) {\n",
       "      setTimeout(display_loaded, 100)\n",
       "    }\n",
       "  }\n",
       "\n",
       "\n",
       "  function run_callbacks() {\n",
       "    try {\n",
       "      root._bokeh_onload_callbacks.forEach(function(callback) {\n",
       "        if (callback != null)\n",
       "          callback();\n",
       "      });\n",
       "    } finally {\n",
       "      delete root._bokeh_onload_callbacks\n",
       "    }\n",
       "    console.debug(\"Bokeh: all callbacks have finished\");\n",
       "  }\n",
       "\n",
       "  function load_libs(css_urls, js_urls, callback) {\n",
       "    if (css_urls == null) css_urls = [];\n",
       "    if (js_urls == null) js_urls = [];\n",
       "\n",
       "    root._bokeh_onload_callbacks.push(callback);\n",
       "    if (root._bokeh_is_loading > 0) {\n",
       "      console.debug(\"Bokeh: BokehJS is being loaded, scheduling callback at\", now());\n",
       "      return null;\n",
       "    }\n",
       "    if (js_urls == null || js_urls.length === 0) {\n",
       "      run_callbacks();\n",
       "      return null;\n",
       "    }\n",
       "    console.debug(\"Bokeh: BokehJS not loaded, scheduling load and callback at\", now());\n",
       "    root._bokeh_is_loading = css_urls.length + js_urls.length;\n",
       "\n",
       "    function on_load() {\n",
       "      root._bokeh_is_loading--;\n",
       "      if (root._bokeh_is_loading === 0) {\n",
       "        console.debug(\"Bokeh: all BokehJS libraries/stylesheets loaded\");\n",
       "        run_callbacks()\n",
       "      }\n",
       "    }\n",
       "\n",
       "    function on_error() {\n",
       "      console.error(\"failed to load \" + url);\n",
       "    }\n",
       "\n",
       "    for (var i = 0; i < css_urls.length; i++) {\n",
       "      var url = css_urls[i];\n",
       "      const element = document.createElement(\"link\");\n",
       "      element.onload = on_load;\n",
       "      element.onerror = on_error;\n",
       "      element.rel = \"stylesheet\";\n",
       "      element.type = \"text/css\";\n",
       "      element.href = url;\n",
       "      console.debug(\"Bokeh: injecting link tag for BokehJS stylesheet: \", url);\n",
       "      document.body.appendChild(element);\n",
       "    }\n",
       "\n",
       "    for (var i = 0; i < js_urls.length; i++) {\n",
       "      var url = js_urls[i];\n",
       "      var element = document.createElement('script');\n",
       "      element.onload = on_load;\n",
       "      element.onerror = on_error;\n",
       "      element.async = false;\n",
       "      element.src = url;\n",
       "      console.debug(\"Bokeh: injecting script tag for BokehJS library: \", url);\n",
       "      document.head.appendChild(element);\n",
       "    }\n",
       "  };var element = document.getElementById(\"1003\");\n",
       "  if (element == null) {\n",
       "    console.error(\"Bokeh: ERROR: autoload.js configured with elementid '1003' but no matching script tag was found. \")\n",
       "    return false;\n",
       "  }\n",
       "\n",
       "  function inject_raw_css(css) {\n",
       "    const element = document.createElement(\"style\");\n",
       "    element.appendChild(document.createTextNode(css));\n",
       "    document.body.appendChild(element);\n",
       "  }\n",
       "\n",
       "  var js_urls = [\"https://cdn.pydata.org/bokeh/release/bokeh-1.3.4.min.js\", \"https://cdn.pydata.org/bokeh/release/bokeh-widgets-1.3.4.min.js\", \"https://cdn.pydata.org/bokeh/release/bokeh-tables-1.3.4.min.js\", \"https://cdn.pydata.org/bokeh/release/bokeh-gl-1.3.4.min.js\"];\n",
       "  var css_urls = [];\n",
       "\n",
       "  var inline_js = [\n",
       "    function(Bokeh) {\n",
       "      Bokeh.set_log_level(\"info\");\n",
       "    },\n",
       "    \n",
       "    function(Bokeh) {\n",
       "      \n",
       "    },\n",
       "    function(Bokeh) {} // ensure no trailing comma for IE\n",
       "  ];\n",
       "\n",
       "  function run_inline_js() {\n",
       "    \n",
       "    if ((root.Bokeh !== undefined) || (force === true)) {\n",
       "      for (var i = 0; i < inline_js.length; i++) {\n",
       "        inline_js[i].call(root, root.Bokeh);\n",
       "      }if (force === true) {\n",
       "        display_loaded();\n",
       "      }} else if (Date.now() < root._bokeh_timeout) {\n",
       "      setTimeout(run_inline_js, 100);\n",
       "    } else if (!root._bokeh_failed_load) {\n",
       "      console.log(\"Bokeh: BokehJS failed to load within specified timeout.\");\n",
       "      root._bokeh_failed_load = true;\n",
       "    } else if (force !== true) {\n",
       "      var cell = $(document.getElementById(\"1003\")).parents('.cell').data().cell;\n",
       "      cell.output_area.append_execute_result(NB_LOAD_WARNING)\n",
       "    }\n",
       "\n",
       "  }\n",
       "\n",
       "  if (root._bokeh_is_loading === 0) {\n",
       "    console.debug(\"Bokeh: BokehJS loaded, going straight to plotting\");\n",
       "    run_inline_js();\n",
       "  } else {\n",
       "    load_libs(css_urls, js_urls, function() {\n",
       "      console.debug(\"Bokeh: BokehJS plotting callback run at\", now());\n",
       "      run_inline_js();\n",
       "    });\n",
       "  }\n",
       "}(window));"
      ],
      "application/vnd.bokehjs_load.v0+json": "\n(function(root) {\n  function now() {\n    return new Date();\n  }\n\n  var force = true;\n\n  if (typeof root._bokeh_onload_callbacks === \"undefined\" || force === true) {\n    root._bokeh_onload_callbacks = [];\n    root._bokeh_is_loading = undefined;\n  }\n\n  \n\n  \n  if (typeof (root._bokeh_timeout) === \"undefined\" || force === true) {\n    root._bokeh_timeout = Date.now() + 5000;\n    root._bokeh_failed_load = false;\n  }\n\n  var NB_LOAD_WARNING = {'data': {'text/html':\n     \"<div style='background-color: #fdd'>\\n\"+\n     \"<p>\\n\"+\n     \"BokehJS does not appear to have successfully loaded. If loading BokehJS from CDN, this \\n\"+\n     \"may be due to a slow or bad network connection. Possible fixes:\\n\"+\n     \"</p>\\n\"+\n     \"<ul>\\n\"+\n     \"<li>re-rerun `output_notebook()` to attempt to load from CDN again, or</li>\\n\"+\n     \"<li>use INLINE resources instead, as so:</li>\\n\"+\n     \"</ul>\\n\"+\n     \"<code>\\n\"+\n     \"from bokeh.resources import INLINE\\n\"+\n     \"output_notebook(resources=INLINE)\\n\"+\n     \"</code>\\n\"+\n     \"</div>\"}};\n\n  function display_loaded() {\n    var el = document.getElementById(\"1003\");\n    if (el != null) {\n      el.textContent = \"BokehJS is loading...\";\n    }\n    if (root.Bokeh !== undefined) {\n      if (el != null) {\n        el.textContent = \"BokehJS \" + root.Bokeh.version + \" successfully loaded.\";\n      }\n    } else if (Date.now() < root._bokeh_timeout) {\n      setTimeout(display_loaded, 100)\n    }\n  }\n\n\n  function run_callbacks() {\n    try {\n      root._bokeh_onload_callbacks.forEach(function(callback) {\n        if (callback != null)\n          callback();\n      });\n    } finally {\n      delete root._bokeh_onload_callbacks\n    }\n    console.debug(\"Bokeh: all callbacks have finished\");\n  }\n\n  function load_libs(css_urls, js_urls, callback) {\n    if (css_urls == null) css_urls = [];\n    if (js_urls == null) js_urls = [];\n\n    root._bokeh_onload_callbacks.push(callback);\n    if (root._bokeh_is_loading > 0) {\n      console.debug(\"Bokeh: BokehJS is being loaded, scheduling callback at\", now());\n      return null;\n    }\n    if (js_urls == null || js_urls.length === 0) {\n      run_callbacks();\n      return null;\n    }\n    console.debug(\"Bokeh: BokehJS not loaded, scheduling load and callback at\", now());\n    root._bokeh_is_loading = css_urls.length + js_urls.length;\n\n    function on_load() {\n      root._bokeh_is_loading--;\n      if (root._bokeh_is_loading === 0) {\n        console.debug(\"Bokeh: all BokehJS libraries/stylesheets loaded\");\n        run_callbacks()\n      }\n    }\n\n    function on_error() {\n      console.error(\"failed to load \" + url);\n    }\n\n    for (var i = 0; i < css_urls.length; i++) {\n      var url = css_urls[i];\n      const element = document.createElement(\"link\");\n      element.onload = on_load;\n      element.onerror = on_error;\n      element.rel = \"stylesheet\";\n      element.type = \"text/css\";\n      element.href = url;\n      console.debug(\"Bokeh: injecting link tag for BokehJS stylesheet: \", url);\n      document.body.appendChild(element);\n    }\n\n    for (var i = 0; i < js_urls.length; i++) {\n      var url = js_urls[i];\n      var element = document.createElement('script');\n      element.onload = on_load;\n      element.onerror = on_error;\n      element.async = false;\n      element.src = url;\n      console.debug(\"Bokeh: injecting script tag for BokehJS library: \", url);\n      document.head.appendChild(element);\n    }\n  };var element = document.getElementById(\"1003\");\n  if (element == null) {\n    console.error(\"Bokeh: ERROR: autoload.js configured with elementid '1003' but no matching script tag was found. \")\n    return false;\n  }\n\n  function inject_raw_css(css) {\n    const element = document.createElement(\"style\");\n    element.appendChild(document.createTextNode(css));\n    document.body.appendChild(element);\n  }\n\n  var js_urls = [\"https://cdn.pydata.org/bokeh/release/bokeh-1.3.4.min.js\", \"https://cdn.pydata.org/bokeh/release/bokeh-widgets-1.3.4.min.js\", \"https://cdn.pydata.org/bokeh/release/bokeh-tables-1.3.4.min.js\", \"https://cdn.pydata.org/bokeh/release/bokeh-gl-1.3.4.min.js\"];\n  var css_urls = [];\n\n  var inline_js = [\n    function(Bokeh) {\n      Bokeh.set_log_level(\"info\");\n    },\n    \n    function(Bokeh) {\n      \n    },\n    function(Bokeh) {} // ensure no trailing comma for IE\n  ];\n\n  function run_inline_js() {\n    \n    if ((root.Bokeh !== undefined) || (force === true)) {\n      for (var i = 0; i < inline_js.length; i++) {\n        inline_js[i].call(root, root.Bokeh);\n      }if (force === true) {\n        display_loaded();\n      }} else if (Date.now() < root._bokeh_timeout) {\n      setTimeout(run_inline_js, 100);\n    } else if (!root._bokeh_failed_load) {\n      console.log(\"Bokeh: BokehJS failed to load within specified timeout.\");\n      root._bokeh_failed_load = true;\n    } else if (force !== true) {\n      var cell = $(document.getElementById(\"1003\")).parents('.cell').data().cell;\n      cell.output_area.append_execute_result(NB_LOAD_WARNING)\n    }\n\n  }\n\n  if (root._bokeh_is_loading === 0) {\n    console.debug(\"Bokeh: BokehJS loaded, going straight to plotting\");\n    run_inline_js();\n  } else {\n    load_libs(css_urls, js_urls, function() {\n      console.debug(\"Bokeh: BokehJS plotting callback run at\", now());\n      run_inline_js();\n    });\n  }\n}(window));"
     },
     "metadata": {},
     "output_type": "display_data"
    }
   ],
   "source": [
    "import pandas as pd\n",
    "from bokeh.io import output_notebook,show\n",
    "output_notebook()"
   ]
  },
  {
   "cell_type": "code",
   "execution_count": 39,
   "metadata": {},
   "outputs": [],
   "source": [
    "from bokeh.models import ColumnDataSource,CategoricalColorMapper"
   ]
  },
  {
   "cell_type": "code",
   "execution_count": 48,
   "metadata": {},
   "outputs": [],
   "source": [
    "from bokeh.transform import factor_cmap"
   ]
  },
  {
   "cell_type": "code",
   "execution_count": 72,
   "metadata": {},
   "outputs": [],
   "source": [
    "from bokeh.palettes import Viridis10"
   ]
  },
  {
   "cell_type": "code",
   "execution_count": 11,
   "metadata": {},
   "outputs": [],
   "source": [
    "from bokeh.plotting import figure"
   ]
  },
  {
   "cell_type": "code",
   "execution_count": 15,
   "metadata": {},
   "outputs": [],
   "source": [
    "from bokeh.models import HoverTool"
   ]
  },
  {
   "cell_type": "code",
   "execution_count": 8,
   "metadata": {},
   "outputs": [],
   "source": [
    "country_rank_df = pd.read_csv(\"D:\\\\DataViz\\\\Project\\\\country_rank_score.csv\")\n",
    "country_rank_df.dropna(inplace=True)"
   ]
  },
  {
   "cell_type": "code",
   "execution_count": 55,
   "metadata": {},
   "outputs": [
    {
     "data": {
      "text/plain": [
       "0             Denmark\n",
       "2       United States\n",
       "366           Denmark\n",
       "373     United States\n",
       "763           Denmark\n",
       "776     United States\n",
       "961           Denmark\n",
       "976     United States\n",
       "1160          Denmark\n",
       "1170    United States\n",
       "1362          Denmark\n",
       "1365    United States\n",
       "1562    United States\n",
       "1564          Denmark\n",
       "1761    United States\n",
       "1762          Denmark\n",
       "1964          Denmark\n",
       "1966    United States\n",
       "2157          Denmark\n",
       "2173    United States\n",
       "2359          Denmark\n",
       "2370    United States\n",
       "2558          Denmark\n",
       "2570    United States\n",
       "Name: country_name, dtype: object"
      ]
     },
     "execution_count": 55,
     "metadata": {},
     "output_type": "execute_result"
    }
   ],
   "source": [
    "country_rank_df[country_rank_df.country_name.isin(['Denmark','United States'])].country_name"
   ]
  },
  {
   "cell_type": "code",
   "execution_count": 84,
   "metadata": {},
   "outputs": [],
   "source": [
    "source = ColumnDataSource(dict(x=country_rank_df[country_rank_df.country_name.isin(['Denmark','United States','India'])].year,y=country_rank_df[country_rank_df.country_name.isin(['Denmark','United States','India'])].score,z=country_rank_df[country_rank_df.country_name.isin(['Denmark','United States','India'])].country_name))"
   ]
  },
  {
   "cell_type": "code",
   "execution_count": 85,
   "metadata": {},
   "outputs": [],
   "source": [
    "hover = HoverTool(tooltips=[('Score','@y'),('Country','@z')])"
   ]
  },
  {
   "cell_type": "code",
   "execution_count": 81,
   "metadata": {},
   "outputs": [],
   "source": [
    "p = figure(plot_width=600, plot_height=600,tools=[hover])"
   ]
  },
  {
   "cell_type": "code",
   "execution_count": 82,
   "metadata": {},
   "outputs": [],
   "source": [
    "for ind,country in enumerate(['Denmark','United States','India']):\n",
    "    source = ColumnDataSource(dict(x=country_rank_df[country_rank_df.country_name==country].year,y=country_rank_df[country_rank_df.country_name==country].score))\n",
    "    p.line(x='x',y='y',source=source,color=Viridis10[ind])"
   ]
  },
  {
   "cell_type": "code",
   "execution_count": 83,
   "metadata": {},
   "outputs": [
    {
     "data": {
      "text/html": [
       "\n",
       "\n",
       "\n",
       "\n",
       "\n",
       "\n",
       "  <div class=\"bk-root\" id=\"40af3a23-385a-481f-8d95-2e3781f9671c\" data-root-id=\"2525\"></div>\n"
      ]
     },
     "metadata": {},
     "output_type": "display_data"
    },
    {
     "data": {
      "application/javascript": [
       "(function(root) {\n",
       "  function embed_document(root) {\n",
       "    \n",
       "  var docs_json = {\"7379e4a7-7efa-4188-aefc-80b50852155e\":{\"roots\":{\"references\":[{\"attributes\":{\"callback\":null,\"tooltips\":[[\"Score\",\"@y\"],[\"Country\",\"@z\"]]},\"id\":\"2524\",\"type\":\"HoverTool\"},{\"attributes\":{},\"id\":\"2648\",\"type\":\"Selection\"},{\"attributes\":{},\"id\":\"2645\",\"type\":\"UnionRenderers\"},{\"attributes\":{\"callback\":null,\"data\":{\"x\":[2006,2008,2010,2011,2012,2013,2014,2015,2016,2017,2018,2019],\"y\":{\"__ndarray__\":\"AAAAAABAYEAAAAAAAGBjQAAAAAAA4GNAAAAAAAAgZUAAAAAAAMBkQAAAAAAAgGVAAAAAAADAZUAAAAAAAIBlQAAAAAAAwGVAAAAAAACAZUAAAAAAAEBnQAAAAAAAAGdA\",\"dtype\":\"float64\",\"shape\":[12]}},\"selected\":{\"id\":\"2648\",\"type\":\"Selection\"},\"selection_policy\":{\"id\":\"2647\",\"type\":\"UnionRenderers\"}},\"id\":\"2552\",\"type\":\"ColumnDataSource\"},{\"attributes\":{},\"id\":\"2646\",\"type\":\"Selection\"},{\"attributes\":{\"callback\":null},\"id\":\"2526\",\"type\":\"DataRange1d\"},{\"attributes\":{},\"id\":\"2650\",\"type\":\"Selection\"},{\"attributes\":{\"formatter\":{\"id\":\"2642\",\"type\":\"BasicTickFormatter\"},\"ticker\":{\"id\":\"2540\",\"type\":\"BasicTicker\"}},\"id\":\"2539\",\"type\":\"LinearAxis\"},{\"attributes\":{\"line_alpha\":0.1,\"line_color\":\"#1f77b4\",\"x\":{\"field\":\"x\"},\"y\":{\"field\":\"y\"}},\"id\":\"2549\",\"type\":\"Line\"},{\"attributes\":{\"data_source\":{\"id\":\"2552\",\"type\":\"ColumnDataSource\"},\"glyph\":{\"id\":\"2554\",\"type\":\"Line\"},\"hover_glyph\":null,\"muted_glyph\":null,\"nonselection_glyph\":{\"id\":\"2555\",\"type\":\"Line\"},\"selection_glyph\":null,\"view\":{\"id\":\"2557\",\"type\":\"CDSView\"}},\"id\":\"2556\",\"type\":\"GlyphRenderer\"},{\"attributes\":{\"source\":{\"id\":\"2552\",\"type\":\"ColumnDataSource\"}},\"id\":\"2557\",\"type\":\"CDSView\"},{\"attributes\":{\"active_drag\":\"auto\",\"active_inspect\":\"auto\",\"active_multi\":null,\"active_scroll\":\"auto\",\"active_tap\":\"auto\",\"tools\":[{\"id\":\"2524\",\"type\":\"HoverTool\"}]},\"id\":\"2544\",\"type\":\"Toolbar\"},{\"attributes\":{\"line_alpha\":0.1,\"line_color\":\"#1f77b4\",\"x\":{\"field\":\"x\"},\"y\":{\"field\":\"y\"}},\"id\":\"2561\",\"type\":\"Line\"},{\"attributes\":{},\"id\":\"2647\",\"type\":\"UnionRenderers\"},{\"attributes\":{},\"id\":\"2649\",\"type\":\"UnionRenderers\"},{\"attributes\":{\"data_source\":{\"id\":\"2546\",\"type\":\"ColumnDataSource\"},\"glyph\":{\"id\":\"2548\",\"type\":\"Line\"},\"hover_glyph\":null,\"muted_glyph\":null,\"nonselection_glyph\":{\"id\":\"2549\",\"type\":\"Line\"},\"selection_glyph\":null,\"view\":{\"id\":\"2551\",\"type\":\"CDSView\"}},\"id\":\"2550\",\"type\":\"GlyphRenderer\"},{\"attributes\":{\"line_color\":\"#472777\",\"x\":{\"field\":\"x\"},\"y\":{\"field\":\"y\"}},\"id\":\"2554\",\"type\":\"Line\"},{\"attributes\":{\"callback\":null,\"data\":{\"x\":[2006,2008,2010,2011,2012,2013,2014,2015,2016,2017,2018,2019],\"y\":{\"__ndarray__\":\"AAAAAAAAOUAAAAAAAIBCQAAAAAAAAElAAAAAAACASkAAAAAAAIBJQAAAAAAAAEpAAAAAAAAASkAAAAAAAIBJQAAAAAAAAEpAAAAAAACASEAAAAAAAABOQAAAAAAAgE1A\",\"dtype\":\"float64\",\"shape\":[12]}},\"selected\":{\"id\":\"2650\",\"type\":\"Selection\"},\"selection_policy\":{\"id\":\"2649\",\"type\":\"UnionRenderers\"}},\"id\":\"2558\",\"type\":\"ColumnDataSource\"},{\"attributes\":{\"callback\":null},\"id\":\"2528\",\"type\":\"DataRange1d\"},{\"attributes\":{},\"id\":\"2540\",\"type\":\"BasicTicker\"},{\"attributes\":{\"text\":\"\"},\"id\":\"2639\",\"type\":\"Title\"},{\"attributes\":{},\"id\":\"2532\",\"type\":\"LinearScale\"},{\"attributes\":{\"formatter\":{\"id\":\"2644\",\"type\":\"BasicTickFormatter\"},\"ticker\":{\"id\":\"2535\",\"type\":\"BasicTicker\"}},\"id\":\"2534\",\"type\":\"LinearAxis\"},{\"attributes\":{\"line_alpha\":0.1,\"line_color\":\"#1f77b4\",\"x\":{\"field\":\"x\"},\"y\":{\"field\":\"y\"}},\"id\":\"2555\",\"type\":\"Line\"},{\"attributes\":{\"data_source\":{\"id\":\"2558\",\"type\":\"ColumnDataSource\"},\"glyph\":{\"id\":\"2560\",\"type\":\"Line\"},\"hover_glyph\":null,\"muted_glyph\":null,\"nonselection_glyph\":{\"id\":\"2561\",\"type\":\"Line\"},\"selection_glyph\":null,\"view\":{\"id\":\"2563\",\"type\":\"CDSView\"}},\"id\":\"2562\",\"type\":\"GlyphRenderer\"},{\"attributes\":{\"line_color\":\"#3E4989\",\"x\":{\"field\":\"x\"},\"y\":{\"field\":\"y\"}},\"id\":\"2560\",\"type\":\"Line\"},{\"attributes\":{},\"id\":\"2642\",\"type\":\"BasicTickFormatter\"},{\"attributes\":{\"ticker\":{\"id\":\"2535\",\"type\":\"BasicTicker\"}},\"id\":\"2538\",\"type\":\"Grid\"},{\"attributes\":{},\"id\":\"2530\",\"type\":\"LinearScale\"},{\"attributes\":{},\"id\":\"2644\",\"type\":\"BasicTickFormatter\"},{\"attributes\":{\"line_color\":\"#440154\",\"x\":{\"field\":\"x\"},\"y\":{\"field\":\"y\"}},\"id\":\"2548\",\"type\":\"Line\"},{\"attributes\":{\"below\":[{\"id\":\"2534\",\"type\":\"LinearAxis\"}],\"center\":[{\"id\":\"2538\",\"type\":\"Grid\"},{\"id\":\"2543\",\"type\":\"Grid\"}],\"left\":[{\"id\":\"2539\",\"type\":\"LinearAxis\"}],\"renderers\":[{\"id\":\"2550\",\"type\":\"GlyphRenderer\"},{\"id\":\"2556\",\"type\":\"GlyphRenderer\"},{\"id\":\"2562\",\"type\":\"GlyphRenderer\"}],\"title\":{\"id\":\"2639\",\"type\":\"Title\"},\"toolbar\":{\"id\":\"2544\",\"type\":\"Toolbar\"},\"x_range\":{\"id\":\"2526\",\"type\":\"DataRange1d\"},\"x_scale\":{\"id\":\"2530\",\"type\":\"LinearScale\"},\"y_range\":{\"id\":\"2528\",\"type\":\"DataRange1d\"},\"y_scale\":{\"id\":\"2532\",\"type\":\"LinearScale\"}},\"id\":\"2525\",\"subtype\":\"Figure\",\"type\":\"Plot\"},{\"attributes\":{\"source\":{\"id\":\"2558\",\"type\":\"ColumnDataSource\"}},\"id\":\"2563\",\"type\":\"CDSView\"},{\"attributes\":{\"dimension\":1,\"ticker\":{\"id\":\"2540\",\"type\":\"BasicTicker\"}},\"id\":\"2543\",\"type\":\"Grid\"},{\"attributes\":{},\"id\":\"2535\",\"type\":\"BasicTicker\"},{\"attributes\":{\"source\":{\"id\":\"2546\",\"type\":\"ColumnDataSource\"}},\"id\":\"2551\",\"type\":\"CDSView\"},{\"attributes\":{\"callback\":null,\"data\":{\"x\":[2006,2008,2010,2011,2012,2013,2014,2015,2016,2017,2018,2019],\"y\":{\"__ndarray__\":\"AAAAAABAYEAAAAAAAKBjQAAAAAAAgGRAAAAAAACgZUAAAAAAACBlQAAAAAAAgGVAAAAAAACgZUAAAAAAAGBlQAAAAAAAwGVAAAAAAADAZUAAAAAAAGBnQAAAAAAAYGdA\",\"dtype\":\"float64\",\"shape\":[12]}},\"selected\":{\"id\":\"2646\",\"type\":\"Selection\"},\"selection_policy\":{\"id\":\"2645\",\"type\":\"UnionRenderers\"}},\"id\":\"2546\",\"type\":\"ColumnDataSource\"}],\"root_ids\":[\"2525\"]},\"title\":\"Bokeh Application\",\"version\":\"1.3.4\"}};\n",
       "  var render_items = [{\"docid\":\"7379e4a7-7efa-4188-aefc-80b50852155e\",\"roots\":{\"2525\":\"40af3a23-385a-481f-8d95-2e3781f9671c\"}}];\n",
       "  root.Bokeh.embed.embed_items_notebook(docs_json, render_items);\n",
       "\n",
       "  }\n",
       "  if (root.Bokeh !== undefined) {\n",
       "    embed_document(root);\n",
       "  } else {\n",
       "    var attempts = 0;\n",
       "    var timer = setInterval(function(root) {\n",
       "      if (root.Bokeh !== undefined) {\n",
       "        embed_document(root);\n",
       "        clearInterval(timer);\n",
       "      }\n",
       "      attempts++;\n",
       "      if (attempts > 100) {\n",
       "        console.log(\"Bokeh: ERROR: Unable to run BokehJS code because BokehJS library is missing\");\n",
       "        clearInterval(timer);\n",
       "      }\n",
       "    }, 10, root)\n",
       "  }\n",
       "})(window);"
      ],
      "application/vnd.bokehjs_exec.v0+json": ""
     },
     "metadata": {
      "application/vnd.bokehjs_exec.v0+json": {
       "id": "2525"
      }
     },
     "output_type": "display_data"
    }
   ],
   "source": [
    "show(p)"
   ]
  },
  {
   "cell_type": "code",
   "execution_count": 110,
   "metadata": {},
   "outputs": [],
   "source": [
    "from bokeh.models.widgets import Select"
   ]
  },
  {
   "cell_type": "code",
   "execution_count": 111,
   "metadata": {},
   "outputs": [],
   "source": [
    "from bokeh.layouts import column, row"
   ]
  },
  {
   "cell_type": "code",
   "execution_count": 109,
   "metadata": {},
   "outputs": [],
   "source": [
    "menu = Select(options=['Denmark','United States'], value='Denmark')"
   ]
  },
  {
   "cell_type": "code",
   "execution_count": 112,
   "metadata": {},
   "outputs": [],
   "source": [
    "def get_all_price_dataset(country_rank_df,name):\n",
    "    df = country_rank_df[(country_rank_df.country_name == name)].copy()\n",
    "    return df"
   ]
  },
  {
   "cell_type": "code",
   "execution_count": 108,
   "metadata": {},
   "outputs": [],
   "source": [
    "DisplayData = ColumnDataSource(country_rank_df[country_rank_df.country_name=='Denmark'])"
   ]
  },
  {
   "cell_type": "code",
   "execution_count": 113,
   "metadata": {},
   "outputs": [],
   "source": [
    "def make_plot(DisplayData):\n",
    "    p = figure(plot_width=600, plot_height=600)\n",
    "    p.line(x='year',y='score',source=DisplayData,color=Viridis10[0])\n",
    "    return p"
   ]
  },
  {
   "cell_type": "code",
   "execution_count": null,
   "metadata": {},
   "outputs": [],
   "source": []
  },
  {
   "cell_type": "code",
   "execution_count": 114,
   "metadata": {},
   "outputs": [
    {
     "name": "stderr",
     "output_type": "stream",
     "text": [
      "WARNING:bokeh.embed.util:\n",
      "You are generating standalone HTML/JS output, but trying to use real Python\n",
      "callbacks (i.e. with on_change or on_event). This combination cannot work.\n",
      "\n",
      "Only JavaScript callbacks may be used with standalone output. For more\n",
      "information on JavaScript callbacks with Bokeh, see:\n",
      "\n",
      "    http://bokeh.pydata.org/en/latest/docs/user_guide/interaction/callbacks.html\n",
      "\n",
      "Alternatively, to use real Python callbacks, a Bokeh server application may\n",
      "be used. For more information on building and running Bokeh applications, see:\n",
      "\n",
      "    http://bokeh.pydata.org/en/latest/docs/user_guide/server.html\n",
      "\n"
     ]
    },
    {
     "data": {
      "text/html": [
       "\n",
       "\n",
       "\n",
       "\n",
       "\n",
       "\n",
       "  <div class=\"bk-root\" id=\"78b8dbe0-c7cf-4062-adde-361632aec4bf\" data-root-id=\"3610\"></div>\n"
      ]
     },
     "metadata": {},
     "output_type": "display_data"
    },
    {
     "data": {
      "application/javascript": [
       "(function(root) {\n",
       "  function embed_document(root) {\n",
       "    \n",
       "  var docs_json = {\"2ca42376-21aa-45fd-9a0e-2497b0359174\":{\"roots\":{\"references\":[{\"attributes\":{\"source\":{\"id\":\"3571\",\"type\":\"ColumnDataSource\"}},\"id\":\"3609\",\"type\":\"CDSView\"},{\"attributes\":{\"callback\":null},\"id\":\"3576\",\"type\":\"DataRange1d\"},{\"attributes\":{\"bottom_units\":\"screen\",\"fill_alpha\":{\"value\":0.5},\"fill_color\":{\"value\":\"lightgrey\"},\"left_units\":\"screen\",\"level\":\"overlay\",\"line_alpha\":{\"value\":1.0},\"line_color\":{\"value\":\"black\"},\"line_dash\":[4,4],\"line_width\":{\"value\":2},\"render_mode\":\"css\",\"right_units\":\"screen\",\"top_units\":\"screen\"},\"id\":\"3739\",\"type\":\"BoxAnnotation\"},{\"attributes\":{\"active_drag\":\"auto\",\"active_inspect\":\"auto\",\"active_multi\":null,\"active_scroll\":\"auto\",\"active_tap\":\"auto\",\"tools\":[{\"id\":\"3592\",\"type\":\"PanTool\"},{\"id\":\"3593\",\"type\":\"WheelZoomTool\"},{\"id\":\"3594\",\"type\":\"BoxZoomTool\"},{\"id\":\"3595\",\"type\":\"SaveTool\"},{\"id\":\"3596\",\"type\":\"ResetTool\"},{\"id\":\"3597\",\"type\":\"HelpTool\"}]},\"id\":\"3598\",\"type\":\"Toolbar\"},{\"attributes\":{\"dimension\":1,\"ticker\":{\"id\":\"3588\",\"type\":\"BasicTicker\"}},\"id\":\"3591\",\"type\":\"Grid\"},{\"attributes\":{\"formatter\":{\"id\":\"3736\",\"type\":\"BasicTickFormatter\"},\"ticker\":{\"id\":\"3588\",\"type\":\"BasicTicker\"}},\"id\":\"3587\",\"type\":\"LinearAxis\"},{\"attributes\":{\"overlay\":{\"id\":\"3739\",\"type\":\"BoxAnnotation\"}},\"id\":\"3594\",\"type\":\"BoxZoomTool\"},{\"attributes\":{\"data_source\":{\"id\":\"3571\",\"type\":\"ColumnDataSource\"},\"glyph\":{\"id\":\"3606\",\"type\":\"Line\"},\"hover_glyph\":null,\"muted_glyph\":null,\"nonselection_glyph\":{\"id\":\"3607\",\"type\":\"Line\"},\"selection_glyph\":null,\"view\":{\"id\":\"3609\",\"type\":\"CDSView\"}},\"id\":\"3608\",\"type\":\"GlyphRenderer\"},{\"attributes\":{},\"id\":\"3597\",\"type\":\"HelpTool\"},{\"attributes\":{\"line_alpha\":0.1,\"line_color\":\"#1f77b4\",\"x\":{\"field\":\"year\"},\"y\":{\"field\":\"score\"}},\"id\":\"3607\",\"type\":\"Line\"},{\"attributes\":{\"formatter\":{\"id\":\"3738\",\"type\":\"BasicTickFormatter\"},\"ticker\":{\"id\":\"3583\",\"type\":\"BasicTicker\"}},\"id\":\"3582\",\"type\":\"LinearAxis\"},{\"attributes\":{\"callback\":null,\"options\":[\"Denmark\",\"United States\"],\"value\":\"Denmark\"},\"id\":\"3572\",\"type\":\"Select\"},{\"attributes\":{},\"id\":\"3596\",\"type\":\"ResetTool\"},{\"attributes\":{\"below\":[{\"id\":\"3582\",\"type\":\"LinearAxis\"}],\"center\":[{\"id\":\"3586\",\"type\":\"Grid\"},{\"id\":\"3591\",\"type\":\"Grid\"}],\"left\":[{\"id\":\"3587\",\"type\":\"LinearAxis\"}],\"renderers\":[{\"id\":\"3608\",\"type\":\"GlyphRenderer\"}],\"title\":{\"id\":\"3733\",\"type\":\"Title\"},\"toolbar\":{\"id\":\"3598\",\"type\":\"Toolbar\"},\"x_range\":{\"id\":\"3574\",\"type\":\"DataRange1d\"},\"x_scale\":{\"id\":\"3578\",\"type\":\"LinearScale\"},\"y_range\":{\"id\":\"3576\",\"type\":\"DataRange1d\"},\"y_scale\":{\"id\":\"3580\",\"type\":\"LinearScale\"}},\"id\":\"3573\",\"subtype\":\"Figure\",\"type\":\"Plot\"},{\"attributes\":{\"children\":[{\"id\":\"3572\",\"type\":\"Select\"},{\"id\":\"3573\",\"subtype\":\"Figure\",\"type\":\"Plot\"}]},\"id\":\"3610\",\"type\":\"Row\"},{\"attributes\":{\"callback\":null,\"data\":{\"country_name\":[\"Denmark\",\"Denmark\",\"Denmark\",\"Denmark\",\"Denmark\",\"Denmark\",\"Denmark\",\"Denmark\",\"Denmark\",\"Denmark\",\"Denmark\",\"Denmark\"],\"id\":[212195,21669,21667,21666,21665,21664,21663,21662,21661,21660,212,6],\"index\":[0,366,763,961,1160,1362,1564,1762,1964,2157,2359,2558],\"passport_id\":[2,2,2,2,2,2,2,2,2,2,2,2],\"rank\":[1,1,2,1,1,2,2,3,4,3,4,3],\"score\":{\"__ndarray__\":\"AAAAAABAYEAAAAAAAKBjQAAAAAAAgGRAAAAAAACgZUAAAAAAACBlQAAAAAAAgGVAAAAAAACgZUAAAAAAAGBlQAAAAAAAwGVAAAAAAADAZUAAAAAAAGBnQAAAAAAAYGdA\",\"dtype\":\"float64\",\"shape\":[12]},\"year\":[2006,2008,2010,2011,2012,2013,2014,2015,2016,2017,2018,2019]},\"selected\":{\"id\":\"3741\",\"type\":\"Selection\"},\"selection_policy\":{\"id\":\"3740\",\"type\":\"UnionRenderers\"}},\"id\":\"3571\",\"type\":\"ColumnDataSource\"},{\"attributes\":{},\"id\":\"3736\",\"type\":\"BasicTickFormatter\"},{\"attributes\":{},\"id\":\"3588\",\"type\":\"BasicTicker\"},{\"attributes\":{\"ticker\":{\"id\":\"3583\",\"type\":\"BasicTicker\"}},\"id\":\"3586\",\"type\":\"Grid\"},{\"attributes\":{},\"id\":\"3592\",\"type\":\"PanTool\"},{\"attributes\":{},\"id\":\"3738\",\"type\":\"BasicTickFormatter\"},{\"attributes\":{\"callback\":null},\"id\":\"3574\",\"type\":\"DataRange1d\"},{\"attributes\":{\"text\":\"\"},\"id\":\"3733\",\"type\":\"Title\"},{\"attributes\":{},\"id\":\"3740\",\"type\":\"UnionRenderers\"},{\"attributes\":{},\"id\":\"3595\",\"type\":\"SaveTool\"},{\"attributes\":{},\"id\":\"3583\",\"type\":\"BasicTicker\"},{\"attributes\":{},\"id\":\"3741\",\"type\":\"Selection\"},{\"attributes\":{\"line_color\":\"#440154\",\"x\":{\"field\":\"year\"},\"y\":{\"field\":\"score\"}},\"id\":\"3606\",\"type\":\"Line\"},{\"attributes\":{},\"id\":\"3578\",\"type\":\"LinearScale\"},{\"attributes\":{},\"id\":\"3580\",\"type\":\"LinearScale\"},{\"attributes\":{},\"id\":\"3593\",\"type\":\"WheelZoomTool\"}],\"root_ids\":[\"3610\"]},\"title\":\"Bokeh Application\",\"version\":\"1.3.4\"}};\n",
       "  var render_items = [{\"docid\":\"2ca42376-21aa-45fd-9a0e-2497b0359174\",\"roots\":{\"3610\":\"78b8dbe0-c7cf-4062-adde-361632aec4bf\"}}];\n",
       "  root.Bokeh.embed.embed_items_notebook(docs_json, render_items);\n",
       "\n",
       "  }\n",
       "  if (root.Bokeh !== undefined) {\n",
       "    embed_document(root);\n",
       "  } else {\n",
       "    var attempts = 0;\n",
       "    var timer = setInterval(function(root) {\n",
       "      if (root.Bokeh !== undefined) {\n",
       "        embed_document(root);\n",
       "        clearInterval(timer);\n",
       "      }\n",
       "      attempts++;\n",
       "      if (attempts > 100) {\n",
       "        console.log(\"Bokeh: ERROR: Unable to run BokehJS code because BokehJS library is missing\");\n",
       "        clearInterval(timer);\n",
       "      }\n",
       "    }, 10, root)\n",
       "  }\n",
       "})(window);"
      ],
      "application/vnd.bokehjs_exec.v0+json": ""
     },
     "metadata": {
      "application/vnd.bokehjs_exec.v0+json": {
       "id": "3610"
      }
     },
     "output_type": "display_data"
    }
   ],
   "source": [
    "def update_plot(attrname, old, new):\n",
    "    newccy = menu.value\n",
    "    src_data_table = ColumnDataSource(get_all_price_dataset(country_rank_df,newccy))\n",
    "    DisplayData.data.update(src_data_table.data)\n",
    "    #On change in menu,function gets called.\n",
    "menu.on_change('value', update_plot)\n",
    "    #Displaying Menu and Plot.\n",
    "p = figure(plot_width=600, plot_height=600)\n",
    "p.line(x='year',y='score',source=DisplayData,color=Viridis10[0])\n",
    "layout = row(menu,p)\n",
    "show(layout)"
   ]
  }
 ],
 "metadata": {
  "kernelspec": {
   "display_name": "Python 3",
   "language": "python",
   "name": "python3"
  },
  "language_info": {
   "codemirror_mode": {
    "name": "ipython",
    "version": 3
   },
   "file_extension": ".py",
   "mimetype": "text/x-python",
   "name": "python",
   "nbconvert_exporter": "python",
   "pygments_lexer": "ipython3",
   "version": "3.5.5"
  }
 },
 "nbformat": 4,
 "nbformat_minor": 2
}
